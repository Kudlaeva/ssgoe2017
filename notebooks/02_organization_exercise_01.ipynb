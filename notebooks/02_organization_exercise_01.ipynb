{
 "cells": [
  {
   "cell_type": "markdown",
   "metadata": {},
   "source": [
    "# Organization -- Exercise 01"
   ]
  },
  {
   "cell_type": "markdown",
   "metadata": {},
   "source": [
    "## Forensic Data Analysis (20 min)\n",
    "\n",
    "You have just started a new job and have to take over the work of a previous employee who has left the lab and gone off the grid. You receive an archive of this person's life work.  Your boss has instructed you to:\n",
    "\n",
    "1. Make sense of all the data he has collected\n",
    "2. Write a report on the findings to share with others in the lab, so they may use the data and analyses in their own work.\n",
    "\n",
    "The archive which was sent to you can be downloaded here: [Archive](../data/forensic-science.zip).\n",
    "\n",
    "Download the archive. With the goal of _making sense of the project_, what can you tell me about this project, and how do you know that?\n",
    "\n",
    "### Questions\n",
    "\n",
    "1. What type of study is this?\n",
    "2. What are the conclusions of this study?\n",
    "3. When was this study performed?\n",
    "4. What are the questions that this study is trying to answer?\n",
    "5. Which files are the data? Which are the analysis?\n",
    "  - What relationships exist between the files?\n",
    "6. Of the data files, what is the differences between them?\n",
    "  - How do you know?\n",
    "7. What are the differences between the analysis files?\n",
    "  - How do you know?\n",
    "8. Are the files formats appropriate?\n",
    "9. What are some way that would make answering these questions easier?"
   ]
  },
  {
   "cell_type": "code",
   "execution_count": null,
   "metadata": {
    "collapsed": true
   },
   "outputs": [],
   "source": []
  }
 ],
 "metadata": {
  "kernelspec": {
   "display_name": "Python 3",
   "language": "python",
   "name": "python3"
  },
  "language_info": {
   "codemirror_mode": {
    "name": "ipython",
    "version": 3
   },
   "file_extension": ".py",
   "mimetype": "text/x-python",
   "name": "python",
   "nbconvert_exporter": "python",
   "pygments_lexer": "ipython3",
   "version": "3.6.1"
  }
 },
 "nbformat": 4,
 "nbformat_minor": 2
}
