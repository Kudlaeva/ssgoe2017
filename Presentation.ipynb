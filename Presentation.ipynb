{
 "cells": [
  {
   "cell_type": "markdown",
   "metadata": {
    "nbpresent": {
     "id": "1a4bcd9f-68f2-400d-9a26-2c0aa2859c76"
    },
    "slideshow": {
     "slide_type": "slide"
    }
   },
   "source": [
    "# This is the first try for a presentation\n",
    "\n",
    "## By George Kaklamanos"
   ]
  },
  {
   "cell_type": "markdown",
   "metadata": {
    "nbpresent": {
     "id": "db01bd0b-2d8c-460e-8b27-30221a9bcb87"
    },
    "slideshow": {
     "slide_type": "slide"
    }
   },
   "source": [
    "This is some sample text writtein in markdown\n",
    "\n",
    "- This should be a bulleted list\n",
    "- This would likely be the second bullet\n",
    "- This would be the third bullet"
   ]
  },
  {
   "cell_type": "markdown",
   "metadata": {
    "nbpresent": {
     "id": "25ff58ba-6c5f-4ceb-97d2-476451c8fb53"
    },
    "slideshow": {
     "slide_type": "subslide"
    }
   },
   "source": [
    "### This aims for a sub slide containing $\\LaTeX$\n",
    "$$ \\pi = \\frac{a}{b} $$"
   ]
  },
  {
   "cell_type": "markdown",
   "metadata": {
    "slideshow": {
     "slide_type": "slide"
    }
   },
   "source": [
    "### Another Slide\n",
    "\n",
    "Sure why note, let's just add more text in here"
   ]
  },
  {
   "cell_type": "markdown",
   "metadata": {
    "slideshow": {
     "slide_type": "slide"
    }
   },
   "source": [
    "## In conclusion\n",
    "\n",
    "This should work..."
   ]
  },
  {
   "cell_type": "markdown",
   "metadata": {
    "slideshow": {
     "slide_type": "slide"
    }
   },
   "source": [
    "### Hopefully"
   ]
  }
 ],
 "metadata": {
  "celltoolbar": "Slideshow",
  "kernelspec": {
   "display_name": "Python [default]",
   "language": "python",
   "name": "python2"
  },
  "language_info": {
   "codemirror_mode": {
    "name": "ipython",
    "version": 2
   },
   "file_extension": ".py",
   "mimetype": "text/x-python",
   "name": "python",
   "nbconvert_exporter": "python",
   "pygments_lexer": "ipython2",
   "version": "2.7.13"
  },
  "nbpresent": {
   "slides": {
    "65dfbc2e-92bf-4f97-88a9-2bd582ab5b79": {
     "id": "65dfbc2e-92bf-4f97-88a9-2bd582ab5b79",
     "prev": "77d1e5dd-5111-4ac0-b759-df70913bfe1d",
     "regions": {
      "f3999b99-8226-4a0e-ba7c-d19dec39bf0d": {
       "attrs": {
        "height": 0.8,
        "width": 0.8,
        "x": 0.1,
        "y": 0.1
       },
       "content": {
        "cell": "db01bd0b-2d8c-460e-8b27-30221a9bcb87",
        "part": "whole"
       },
       "id": "f3999b99-8226-4a0e-ba7c-d19dec39bf0d"
      }
     }
    },
    "77d1e5dd-5111-4ac0-b759-df70913bfe1d": {
     "id": "77d1e5dd-5111-4ac0-b759-df70913bfe1d",
     "prev": null,
     "regions": {
      "14c0ef01-5c1f-4bcf-9e66-97179eec04f5": {
       "attrs": {
        "height": 0.8,
        "width": 0.8,
        "x": 0.1,
        "y": 0.1
       },
       "content": {
        "cell": "1a4bcd9f-68f2-400d-9a26-2c0aa2859c76",
        "part": "whole"
       },
       "id": "14c0ef01-5c1f-4bcf-9e66-97179eec04f5"
      }
     }
    },
    "cbd1b647-a1c0-48da-b97a-3058709ab887": {
     "id": "cbd1b647-a1c0-48da-b97a-3058709ab887",
     "prev": "65dfbc2e-92bf-4f97-88a9-2bd582ab5b79",
     "regions": {
      "0f533ff7-6820-446b-a74e-2506d83a30f8": {
       "attrs": {
        "height": 0.8,
        "width": 0.8,
        "x": 0.1,
        "y": 0.1
       },
       "content": {
        "cell": "25ff58ba-6c5f-4ceb-97d2-476451c8fb53",
        "part": "whole"
       },
       "id": "0f533ff7-6820-446b-a74e-2506d83a30f8"
      }
     }
    }
   },
   "themes": {}
  }
 },
 "nbformat": 4,
 "nbformat_minor": 2
}
